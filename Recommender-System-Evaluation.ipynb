{
 "cells": [
  {
   "cell_type": "markdown",
   "metadata": {},
   "source": [
    "## Evaluation of a Recommender system using different techniques."
   ]
  },
  {
   "cell_type": "code",
   "execution_count": null,
   "metadata": {},
   "outputs": [],
   "source": [
    "import json\n",
    "import time\n",
    "import pandas as pd\n",
    "import numpy as np\n",
    "import scipy.sparse as sps\n",
    "from random import randint\n",
    "from sklearn.metrics import mean_squared_error"
   ]
  },
  {
   "cell_type": "markdown",
   "metadata": {},
   "source": [
    "### We will use the yelp dataset:\n",
    "\n",
    "Using the data we will create a user-business table with user ratings for businesses\n",
    "in the city of \"Toronto\". We will keep users and businesses with a bunch of reviews. Specifically, in the final\n",
    "data there will be a set of users 𝑈, and a set of businesses 𝛣, where each user in 𝑈 will have\n",
    "at least 15 reviews to businesses in 𝛣, and each business in 𝛣 will have at least 15 reviews\n",
    "by users in 𝑈."
   ]
  },
  {
   "cell_type": "markdown",
   "metadata": {},
   "source": [
    "### Loading yelp_academic_review.json and yelp_academic_business.json for filtering"
   ]
  },
  {
   "cell_type": "code",
   "execution_count": 12,
   "metadata": {
    "pycharm": {
     "name": "#%%\n"
    }
   },
   "outputs": [
    {
     "name": "stdout",
     "output_type": "stream",
     "text": [
      "Cell execution time = 88.35155999999995\n"
     ]
    }
   ],
   "source": [
    "business_data ='../data/yelp_academic_dataset_business.json'\n",
    "\n",
    "toronto_business_ids = set()\n",
    "start = time.process_time()\n",
    "for line in open(business_data, 'r', encoding='utf8', errors='ignore'):\n",
    "    data = json.loads(line)\n",
    "    if data['city'] == 'Toronto' and data['review_count'] >= 15:\n",
    "        toronto_business_ids.add(data['business_id'])\n",
    "\n",
    "\n",
    "review_data_path ='../data/yelp_academic_dataset_review.json'\n",
    "triplets = []\n",
    "for line in open(review_data_path, 'r', encoding='utf8', errors='ignore'):\n",
    "    data = json.loads(line)\n",
    "    business_id=data['business_id']\n",
    "    \n",
    "    if business_id in toronto_business_ids:\n",
    "        user_id = data['user_id']\n",
    "        business_id = data['business_id']\n",
    "        stars = int(data['stars'])\n",
    "        triplet = [user_id, business_id, stars]\n",
    "        triplets.append(triplet)\n",
    "\n",
    "df = pd.DataFrame(triplets)\n",
    "df.columns =['user_id', 'business_id', 'stars'] \n",
    "\n",
    "df = df.drop_duplicates(subset=['user_id', 'business_id'],keep='last')\n",
    "\n",
    "while True:\n",
    "    old_lines = len(df)\n",
    "    df = df.groupby('business_id').filter(lambda x: len(x) >= 15)\n",
    "    df = df.groupby('user_id').filter(lambda x: len(x) >= 15)\n",
    "    new_lines = len(df)\n",
    "    if old_lines == new_lines:\n",
    "        break\n",
    "print(f\"Cell execution time = {time.process_time() - start}\")\n",
    "\n",
    "# write the dataframe on disk\n",
    "csv_name = \"../data/yelp_user_business.csv\"\n",
    "df.to_csv(csv_name, index=False, header=False)"
   ]
  },
  {
   "cell_type": "code",
   "execution_count": 13,
   "metadata": {
    "pycharm": {
     "name": "#%%\n"
    }
   },
   "outputs": [
    {
     "data": {
      "text/html": [
       "<div>\n",
       "<style scoped>\n",
       "    .dataframe tbody tr th:only-of-type {\n",
       "        vertical-align: middle;\n",
       "    }\n",
       "\n",
       "    .dataframe tbody tr th {\n",
       "        vertical-align: top;\n",
       "    }\n",
       "\n",
       "    .dataframe thead th {\n",
       "        text-align: right;\n",
       "    }\n",
       "</style>\n",
       "<table border=\"1\" class=\"dataframe\">\n",
       "  <thead>\n",
       "    <tr style=\"text-align: right;\">\n",
       "      <th></th>\n",
       "      <th>user_id</th>\n",
       "      <th>business_id</th>\n",
       "      <th>stars</th>\n",
       "    </tr>\n",
       "  </thead>\n",
       "  <tbody>\n",
       "    <tr>\n",
       "      <th>0</th>\n",
       "      <td>TZQSUDDcA4ek5gBd6BzcjA</td>\n",
       "      <td>qUWqjjjfpB2-4P3He5rsKw</td>\n",
       "      <td>4</td>\n",
       "    </tr>\n",
       "    <tr>\n",
       "      <th>2</th>\n",
       "      <td>AdMCAKmNDIaubYPxnjTq1g</td>\n",
       "      <td>nIIuxIn5RU0j-XkDWh3hlA</td>\n",
       "      <td>1</td>\n",
       "    </tr>\n",
       "    <tr>\n",
       "      <th>3</th>\n",
       "      <td>1kNsEAhGU8d8xugMuXJGFA</td>\n",
       "      <td>cDoo0Pf1d_P79Rq3ZNk-Mw</td>\n",
       "      <td>3</td>\n",
       "    </tr>\n",
       "    <tr>\n",
       "      <th>7</th>\n",
       "      <td>Kl6jNDAE7PG_VVQafIptxQ</td>\n",
       "      <td>IfUkm42SB9D0m_ZbkQ711A</td>\n",
       "      <td>4</td>\n",
       "    </tr>\n",
       "    <tr>\n",
       "      <th>10</th>\n",
       "      <td>JnPIjvC0cmooNDfsa9BmXg</td>\n",
       "      <td>nY2oBwH3s5sKox1mERIoVQ</td>\n",
       "      <td>5</td>\n",
       "    </tr>\n",
       "    <tr>\n",
       "      <th>...</th>\n",
       "      <td>...</td>\n",
       "      <td>...</td>\n",
       "      <td>...</td>\n",
       "    </tr>\n",
       "    <tr>\n",
       "      <th>519676</th>\n",
       "      <td>6Rkg-RdO9-EhDP9bbBiKZA</td>\n",
       "      <td>zHNk2BnANwkvHvaXD7yYsg</td>\n",
       "      <td>5</td>\n",
       "    </tr>\n",
       "    <tr>\n",
       "      <th>519679</th>\n",
       "      <td>v-HcprOKPC1_F5_15t4JDw</td>\n",
       "      <td>G2Z-4U6cDsDQvT6v3FzYmA</td>\n",
       "      <td>3</td>\n",
       "    </tr>\n",
       "    <tr>\n",
       "      <th>519680</th>\n",
       "      <td>aLvxbF2DueKFOqul9eVWCw</td>\n",
       "      <td>L_tieGcFMQVSmk7XiA093A</td>\n",
       "      <td>4</td>\n",
       "    </tr>\n",
       "    <tr>\n",
       "      <th>519683</th>\n",
       "      <td>E1hLHq6LZ6AoSJzW-oT4FQ</td>\n",
       "      <td>xF2zrVbXtB6TxMBPGJKxog</td>\n",
       "      <td>2</td>\n",
       "    </tr>\n",
       "    <tr>\n",
       "      <th>519685</th>\n",
       "      <td>6ORiBNRD1FpaIJv3yLRZ4Q</td>\n",
       "      <td>9tfw-OEfpF0qC2hSzRks6g</td>\n",
       "      <td>5</td>\n",
       "    </tr>\n",
       "  </tbody>\n",
       "</table>\n",
       "<p>197112 rows × 3 columns</p>\n",
       "</div>"
      ],
      "text/plain": [
       "                       user_id             business_id  stars\n",
       "0       TZQSUDDcA4ek5gBd6BzcjA  qUWqjjjfpB2-4P3He5rsKw      4\n",
       "2       AdMCAKmNDIaubYPxnjTq1g  nIIuxIn5RU0j-XkDWh3hlA      1\n",
       "3       1kNsEAhGU8d8xugMuXJGFA  cDoo0Pf1d_P79Rq3ZNk-Mw      3\n",
       "7       Kl6jNDAE7PG_VVQafIptxQ  IfUkm42SB9D0m_ZbkQ711A      4\n",
       "10      JnPIjvC0cmooNDfsa9BmXg  nY2oBwH3s5sKox1mERIoVQ      5\n",
       "...                        ...                     ...    ...\n",
       "519676  6Rkg-RdO9-EhDP9bbBiKZA  zHNk2BnANwkvHvaXD7yYsg      5\n",
       "519679  v-HcprOKPC1_F5_15t4JDw  G2Z-4U6cDsDQvT6v3FzYmA      3\n",
       "519680  aLvxbF2DueKFOqul9eVWCw  L_tieGcFMQVSmk7XiA093A      4\n",
       "519683  E1hLHq6LZ6AoSJzW-oT4FQ  xF2zrVbXtB6TxMBPGJKxog      2\n",
       "519685  6ORiBNRD1FpaIJv3yLRZ4Q  9tfw-OEfpF0qC2hSzRks6g      5\n",
       "\n",
       "[197112 rows x 3 columns]"
      ]
     },
     "execution_count": 13,
     "metadata": {},
     "output_type": "execute_result"
    }
   ],
   "source": [
    "df"
   ]
  },
  {
   "cell_type": "markdown",
   "metadata": {},
   "source": [
    "### As mentioned before we need to have a set of users 𝑈, and a set of businesses 𝛣, where each user in 𝑈 will have at least 15 reviews in businesses in 𝛣, and each business in 𝛣 will have at least 15 reviews from users in 𝑈."
   ]
  },
  {
   "cell_type": "code",
   "execution_count": 14,
   "metadata": {
    "pycharm": {
     "name": "#%%\n"
    }
   },
   "outputs": [
    {
     "data": {
      "text/plain": [
       "CxDOIDnH8gp9KXzpBHJYXw    1014\n",
       "Q9mA60HnY87C1TW5kjAZ6Q     578\n",
       "gwIqbXEXijQNgdESVc07hg     496\n",
       "ic-tyi1jElL_umxZVh8KNA     457\n",
       "TbhyP24zYZqZ2VJZgu1wrg     457\n",
       "                          ... \n",
       "zZwBruhdbV-FcNjgc2E5dQ      15\n",
       "e_AwtYZ5KsVKq0wMq49K_Q      15\n",
       "vGun4ooP1-BzRf8PsAidbQ      15\n",
       "OtiiabF7s6JJROgfloBC_A      15\n",
       "ycKnN8UZ7_A2kIqMV0QFVQ      15\n",
       "Name: user_id, Length: 4794, dtype: int64"
      ]
     },
     "execution_count": 14,
     "metadata": {},
     "output_type": "execute_result"
    }
   ],
   "source": [
    "# count number of reviews per user\n",
    "series_values = df['user_id'].value_counts()\n",
    "series_values"
   ]
  },
  {
   "cell_type": "code",
   "execution_count": 15,
   "metadata": {
    "pycharm": {
     "name": "#%%\n"
    }
   },
   "outputs": [
    {
     "data": {
      "text/plain": [
       "r_BrIgzYcwo1NAuG9dLbpg    852\n",
       "aLcFhMe6DDJ430zelCpd2A    652\n",
       "iGEvDk6hsizigmXhDKs2Vg    576\n",
       "RtUvSWO_UZ8V3Wpj0n077w    546\n",
       "-av1lZI1JDY_RZN2eTMnWg    501\n",
       "                         ... \n",
       "FNQs47CO7Dd8tVZ1u8aEMw     15\n",
       "DXWnAkolXRYXP-fearRfmw     15\n",
       "N4KJ6bPenS3AcK3_8UG0Ug     15\n",
       "KteURpvwtwYkZpqlZzkt-Q     15\n",
       "v95jj6odiwnkB7tudFlTIw     15\n",
       "Name: business_id, Length: 4092, dtype: int64"
      ]
     },
     "execution_count": 15,
     "metadata": {},
     "output_type": "execute_result"
    }
   ],
   "source": [
    "# count number of reviews per business\n",
    "series_values = df['business_id'].value_counts()\n",
    "series_values"
   ]
  },
  {
   "cell_type": "markdown",
   "metadata": {},
   "source": [
    "# Step 2\n",
    "n this step we will use the data from Step 1 to create a sparse R table that holds\n",
    "the reviews.\n",
    "\n",
    "Next, we will randomly subtract 5% of the scores from table R. These are the scores we want to predict later.\n",
    "Table R will contain 0 in the ratings we removed.\n",
    "\n",
    "## Create a dense array\n",
    "We will use df.pivot to pivot our data such that each user has a spot for a review in every business. For the rows we will select the column 'user_id' and as columns we will have the 'business_id' with the values being the ratings.\n",
    "\n",
    "With the df.values command we will hold the ratings_matrix.\n",
    "In several cells there are no ratings, resulting in NaN values. We will convert them to zero."
   ]
  },
  {
   "cell_type": "code",
   "execution_count": 2,
   "metadata": {
    "pycharm": {
     "name": "#%%\n"
    }
   },
   "outputs": [
    {
     "name": "stdout",
     "output_type": "stream",
     "text": [
      "Original sparse array size=197112\n",
      "Final sparse array size=187256\n",
      "Extracted 9856 ratings\n"
     ]
    }
   ],
   "source": [
    "input_file = '../data/pruned_data.csv'\n",
    "names = ['user_id', 'business_id', 'rating']\n",
    "\n",
    "df = pd.read_csv(input_file, names=names, encoding='utf8', header=None)\n",
    "total_ratings_number = len(df.index)\n",
    "\n",
    "df = df.pivot(index=names[0], columns=names[1], values=names[2])\n",
    "users_number = df.shape[0]\n",
    "businesses_number = df.shape[1]\n",
    "ratings_matrix = df.values\n",
    "\n",
    "# transform NaN values to zero\n",
    "ratings_matrix = np.nan_to_num(ratings_matrix)\n",
    "\n",
    "\n",
    "R = sps.csr_matrix(ratings_matrix)\n",
    "print(\"Original sparse array size=\" + str(R.size))\n",
    "\n",
    "indices_non_zero = np.nonzero(ratings_matrix) # returns indices of elements that are non-zero.\n",
    "user_ids = indices_non_zero[0]\n",
    "business_ids = indices_non_zero[1]\n",
    "\n",
    "# we will remove the 5% of the total_ratings to predict them\n",
    "sample = round(user_ids.size * 0.05)\n",
    "\n",
    "extracted_ratings = {}\n",
    "\n",
    "def extract_ratings():\n",
    "    while True:\n",
    "        ran = randint(0, total_ratings_number-1)\n",
    "        extracted_rating = (user_ids[ran], business_ids[ran])\n",
    "        if extracted_rating not in extracted_ratings.keys():\n",
    "            return extracted_rating\n",
    "\n",
    "\n",
    "for _ in range(sample):\n",
    "    # get a rating randomly\n",
    "    rating = extract_ratings()\n",
    "    # hold the extracted rating\n",
    "    extracted_ratings[rating] = ratings_matrix[rating]\n",
    "    # remove the rating from the array\n",
    "    ratings_matrix[rating] = 0\n",
    "\n",
    "R = sps.csr_matrix(ratings_matrix)\n",
    "print(\"Final sparse array size=\" + str(R.size))\n",
    "\n",
    "print(f\"Extracted {sample} ratings\")\n",
    "#print(extracted_ratings)\n",
    "dense_array = R.toarray()\n"
   ]
  },
  {
   "cell_type": "markdown",
   "metadata": {},
   "source": [
    "# Step 3\n",
    "- Implementation of the User-Based Collaborative Filtering (UCF) algorithm<br>\n",
    "\n",
    "## We will calculate the cosine similarities of the users. \n",
    "- We will use the [sklearn.metrics.pairwise.cosine_similarity](https://scikit-learn.org/stable/modules/generated/sklearn.metrics.pairwise.cosine_similarity.html) package."
   ]
  },
  {
   "cell_type": "code",
   "execution_count": 3,
   "metadata": {
    "scrolled": false
   },
   "outputs": [
    {
     "name": "stdout",
     "output_type": "stream",
     "text": [
      "User cosine similarities array\n"
     ]
    },
    {
     "data": {
      "text/plain": [
       "array([[1.        , 0.03401935, 0.03223384, ..., 0.        , 0.        ,\n",
       "        0.        ],\n",
       "       [0.03401935, 1.        , 0.        , ..., 0.03453486, 0.01373742,\n",
       "        0.00456321],\n",
       "       [0.03223384, 0.        , 1.        , ..., 0.        , 0.        ,\n",
       "        0.03804868],\n",
       "       ...,\n",
       "       [0.        , 0.03453486, 0.        , ..., 1.        , 0.        ,\n",
       "        0.        ],\n",
       "       [0.        , 0.01373742, 0.        , ..., 0.        , 1.        ,\n",
       "        0.        ],\n",
       "       [0.        , 0.00456321, 0.03804868, ..., 0.        , 0.        ,\n",
       "        1.        ]])"
      ]
     },
     "execution_count": 3,
     "metadata": {},
     "output_type": "execute_result"
    }
   ],
   "source": [
    "from sklearn.metrics.pairwise import cosine_similarity\n",
    "\n",
    "user_cosine_similarities = cosine_similarity(R)\n",
    "\n",
    "print(\"User cosine similarities array\")\n",
    "user_cosine_similarities"
   ]
  },
  {
   "cell_type": "markdown",
   "metadata": {},
   "source": [
    "## For each pair (u, b) removed:\n",
    "1. We find the users who have rated business 𝑏\n",
    "2. We take the similarity of these users with the user 𝑢 and keep the 𝑘 most similar users\n",
    "3. We create two vectors, one with the similarities and one with the ratings for the 𝑘 most similar users\n",
    "4. Calculate the score with the following equation. The calculation can be done with vector operations.\n",
    "$$p\\left(u,\\:b\\right)=\\frac{\\sum \\:\\:_{u'\\in N_k\\:\\left(u,b\\right)}^{ }\\:s\\left(u,\\:u'\\right)\\cdot r\\left(u',\\:b\\right)\\:}{\\sum \\:\\:\\:_{u'\\in \\:N_k\\:\\left(u,b\\right)}^{\\:}\\:s\\left(u,\\:u'\\right)}$$\n",
    "\n",
    "The s(𝑢, 𝑢′) is the similarity between the users 𝑢 and 𝑢′.\n",
    "\n",
    "The r(𝑢', 𝑢′) is the rating of the user 𝑢′for the business b."
   ]
  },
  {
   "cell_type": "code",
   "execution_count": 4,
   "metadata": {
    "scrolled": false
   },
   "outputs": [],
   "source": [
    "def user_based_collaborative_filtering(K, user_id, business_id):\n",
    "    \n",
    "    # find the users that rated the business\n",
    "    ratings_vector =  dense_array[:, business_id]\n",
    "    \n",
    "    # find non zero values\n",
    "    raters = np.nonzero(ratings_vector)\n",
    "    \n",
    "    # find the cosine similarities vector\n",
    "    raters = np.array(raters)\n",
    "    similarities_vector = user_cosine_similarities[user_id, raters ]\n",
    "    \n",
    "    # reshape\n",
    "    similarities_vector = similarities_vector[0, :]\n",
    "    raters = raters[0, :]\n",
    "    \n",
    "    # create dict rater-similarity and sort it to get the topK similar users\n",
    "    rater_similarity = dict(zip(raters, similarities_vector))\n",
    "    \n",
    "    sorted_dict = {k: v for k, v in sorted(rater_similarity.items(), key=lambda item: item[1])}\n",
    "    \n",
    "    \n",
    "    similarities_vector = list(sorted_dict.values())[-K:]\n",
    "    similarities_vector = np.array(similarities_vector)\n",
    "    \n",
    "    raters = list(sorted_dict.keys())[-K:]\n",
    "    ratings = [dense_array[r, business_id] for r in raters]\n",
    "    \n",
    "    # calculate the prediction\n",
    "    return np.array(ratings).dot(similarities_vector) / sum(similarities_vector)\n",
    "\n",
    "\n",
    "ucf_k_values = [1,5,10,20,50,100,200,500,1000]\n",
    "ucf_predictions_per_k = {}\n",
    "for k in ucf_k_values:\n",
    "    ucf_predictions = list()\n",
    "    for rating in extracted_ratings:\n",
    "        ucf_predictions.append(user_based_collaborative_filtering(k, rating[0], rating[1]))\n",
    "    ucf_predictions_per_k[k] = ucf_predictions "
   ]
  },
  {
   "cell_type": "markdown",
   "metadata": {},
   "source": [
    "# Step 4\n",
    "- Implementation of the Item-Based Collaborative Filtering (ΙCF) algorithm<br>\n",
    "\n",
    "\n",
    "## We will calculate the cosine similarities of businesses.\n",
    "We need to calculate the transpose array of R using the [numpy.transpose](https://numpy.org/doc/stable/reference/generated/numpy.transpose.html) function"
   ]
  },
  {
   "cell_type": "code",
   "execution_count": 5,
   "metadata": {},
   "outputs": [
    {
     "name": "stdout",
     "output_type": "stream",
     "text": [
      "Business cosine similarities array\n"
     ]
    },
    {
     "data": {
      "text/plain": [
       "array([[1.        , 0.        , 0.        , ..., 0.        , 0.        ,\n",
       "        0.        ],\n",
       "       [0.        , 1.        , 0.        , ..., 0.        , 0.03454729,\n",
       "        0.        ],\n",
       "       [0.        , 0.        , 1.        , ..., 0.        , 0.        ,\n",
       "        0.06463394],\n",
       "       ...,\n",
       "       [0.        , 0.        , 0.        , ..., 1.        , 0.        ,\n",
       "        0.09823712],\n",
       "       [0.        , 0.03454729, 0.        , ..., 0.        , 1.        ,\n",
       "        0.        ],\n",
       "       [0.        , 0.        , 0.06463394, ..., 0.09823712, 0.        ,\n",
       "        1.        ]])"
      ]
     },
     "execution_count": 5,
     "metadata": {},
     "output_type": "execute_result"
    }
   ],
   "source": [
    "transpose_array = np.transpose(dense_array)\n",
    "business_cosine_similarities = cosine_similarity(transpose_array)\n",
    "\n",
    "print(\"Business cosine similarities array\")\n",
    "business_cosine_similarities"
   ]
  },
  {
   "cell_type": "markdown",
   "metadata": {},
   "source": [
    "## For each pair (u, b) removed:\n",
    "1. We find the businesses rated by user u.\n",
    "2. We take the similarity of these companies with company b and keep the 𝑘 most similar companies.\n",
    "3. We create two vectors, one with the similarities and one with the scores for the 𝑘 most similar companies.\n",
    "4. Calculate the score with the following equation. The calculation can be done with vector operations.\n",
    "$$p\\left(u,\\:b\\right)=\\frac{\\sum \\:\\:\\:_{b'\\in \\:N_k\\:\\left(b,u\\right)}^{\\:}\\:s\\left(b,\\:b'\\right)\\cdot \\:r\\left(u',\\:b\\right)\\:}{\\sum \\:\\:\\:\\:_{b'\\in \\:\\:N_k\\:\\left(b,u\\right)}^{\\:}\\:s\\left(b,\\:b'\\right)}$$\n",
    "\n",
    "The s(b, b′) is the similarity between business b and b′.\n",
    "\n",
    "The r(𝑢, b′) is the rating of user 𝑢 for the business b′."
   ]
  },
  {
   "cell_type": "code",
   "execution_count": 6,
   "metadata": {
    "scrolled": false
   },
   "outputs": [],
   "source": [
    "def item_based_collaborative_filtering(K, user_id, business_id):\n",
    "    \n",
    "    # find the businesses that the user has rated\n",
    "    rated_businesses_vector =  transpose_array[:, user_id]\n",
    "    \n",
    "    # find non zero values\n",
    "    rated = np.nonzero(rated_businesses_vector)\n",
    "    rated = np.array(rated)\n",
    "    \n",
    "    # find the cosine similarities vector\n",
    "    similarities_vector = business_cosine_similarities[rated, business_id]\n",
    "    \n",
    "    # reshape\n",
    "    similarities_vector = similarities_vector[0, :]\n",
    "    rated = rated[0, :]\n",
    "    \n",
    "    # create dict rated_business-similarity and sort it to get the topK similar businesses\n",
    "    rater_similarity = dict(zip(rated, similarities_vector))\n",
    "    \n",
    "    sorted_dict = {k: v for k, v in sorted(rater_similarity.items(), key=lambda item: item[1])}\n",
    "    \n",
    "    \n",
    "    similarities_vector = list(sorted_dict.values())[-K:]\n",
    "    similarities_vector = np.array(similarities_vector)\n",
    "    \n",
    "    raters = list(sorted_dict.keys())[-K:]\n",
    "    ratings = [transpose_array[r, user_id] for r in raters]\n",
    "    \n",
    "    # calculate the prediction\n",
    "    return np.array(ratings).dot(similarities_vector) / sum(similarities_vector)\n",
    "\n",
    "\n",
    "icf_k_values = [1,5,10,20,40,50,60,70,80,100]\n",
    "icf_predictions_per_k = {}\n",
    "for k in icf_k_values:\n",
    "    icf_predictions = list()\n",
    "    for rating in extracted_ratings:\n",
    "        icf_predictions.append(item_based_collaborative_filtering(k, rating[0], rating[1]))\n",
    "    icf_predictions_per_k[k] = icf_predictions"
   ]
  },
  {
   "cell_type": "markdown",
   "metadata": {},
   "source": [
    "# Step 5\n",
    "- SVD application in array R using the package [sklearn.decomposition](https://scikit-learn.org/stable/modules/generated/sklearn.decomposition.TruncatedSVD.html) to predict ratings <br>"
   ]
  },
  {
   "cell_type": "code",
   "execution_count": 7,
   "metadata": {
    "scrolled": true
   },
   "outputs": [],
   "source": [
    "from sklearn.decomposition import TruncatedSVD\n",
    "\n",
    "def svd_prediction(k):\n",
    "    svd = TruncatedSVD(n_components=k)\n",
    "    svd.fit(R)\n",
    "    U = svd.transform(R)\n",
    "    S = svd.singular_values_\n",
    "    V = svd.components_\n",
    "\n",
    "    s_diagonal = np.diag(svd.singular_values_)  \n",
    "\n",
    "    return U @ s_diagonal @ V\n",
    "\n",
    "\n",
    "svd_k_values = [1,5,10,20,30,40,50,75,100]\n",
    "svd_predictions_per_k = {}\n",
    "for k in svd_k_values:\n",
    "    svd_predictions = list()\n",
    "    Rank_k = svd_prediction(k)\n",
    "    for rating in extracted_ratings:\n",
    "        prediction = Rank_k[rating[0], rating[1]]\n",
    "        if prediction > 5:\n",
    "            prediction = 5\n",
    "        if prediction < 0:\n",
    "            prediction = 0\n",
    "        svd_predictions.append(prediction)\n",
    "    svd_predictions_per_k[k] = svd_predictions"
   ]
  },
  {
   "cell_type": "markdown",
   "metadata": {},
   "source": [
    "# Bonus\n",
    "- Implementation of the User-Based Collaborative Filtering algorithm that predicts deviations from the average value.\n",
    "\n",
    "$$p\\left(u,\\:b\\right)=\\overline{r\\left(u\\right)}+\\frac{\\sum \\:\\:_{u'\\in N_k\\left(u,\\:b\\right)}^{\\:}\\:s\\left(u,\\:u'\\right)\\cdot \\left(r\\left(u',\\:u\\right)-\\overline{r\\left(u'\\right)}\\right)}{\\sum \\:\\:_{u'\\in N_k\\left(u,\\:b\\right)}\\:s\\left(u,\\:u'\\right)}$$\n",
    "\n",
    "For the similarity we will use the correlation coefficient (the cosine similarity, after subtracting the average value from each line)\n",
    "\n",
    "### First we will normalize the ratings array and we will calculate the similarities of the users"
   ]
  },
  {
   "cell_type": "code",
   "execution_count": 8,
   "metadata": {},
   "outputs": [
    {
     "data": {
      "text/plain": [
       "array([[ 1.00000000e+00, -9.41909923e-03,  3.00125751e-03, ...,\n",
       "         0.00000000e+00,  0.00000000e+00,  0.00000000e+00],\n",
       "       [-9.41909923e-03,  1.00000000e+00,  0.00000000e+00, ...,\n",
       "        -5.10838552e-02, -8.33103561e-04, -2.52606380e-02],\n",
       "       [ 3.00125751e-03,  0.00000000e+00,  1.00000000e+00, ...,\n",
       "         0.00000000e+00,  0.00000000e+00, -1.98522143e-03],\n",
       "       ...,\n",
       "       [ 0.00000000e+00, -5.10838552e-02,  0.00000000e+00, ...,\n",
       "         1.00000000e+00,  0.00000000e+00,  0.00000000e+00],\n",
       "       [ 0.00000000e+00, -8.33103561e-04,  0.00000000e+00, ...,\n",
       "         0.00000000e+00,  1.00000000e+00,  0.00000000e+00],\n",
       "       [ 0.00000000e+00, -2.52606380e-02, -1.98522143e-03, ...,\n",
       "         0.00000000e+00,  0.00000000e+00,  1.00000000e+00]])"
      ]
     },
     "execution_count": 8,
     "metadata": {},
     "output_type": "execute_result"
    }
   ],
   "source": [
    "import copy\n",
    "\n",
    "centered_dense_array = copy.deepcopy(dense_array)\n",
    "\n",
    "row_means = np.true_divide(centered_dense_array.sum(1),(centered_dense_array!=0).sum(1))\n",
    "for i in range(centered_dense_array.shape[0]):\n",
    "    centered_dense_array[i][centered_dense_array[i][:]!=0] -= row_means[i]\n",
    "\n",
    "user_similarities_centered = cosine_similarity(centered_dense_array)\n",
    "\n",
    "user_similarities_centered"
   ]
  },
  {
   "cell_type": "markdown",
   "metadata": {},
   "source": [
    "### Next we will re-implement the UCF algorithm using the above formula"
   ]
  },
  {
   "cell_type": "code",
   "execution_count": 9,
   "metadata": {},
   "outputs": [
    {
     "name": "stderr",
     "output_type": "stream",
     "text": [
      "/Users/alexandrosalexiou/opt/anaconda3/envs/mining/lib/python3.7/site-packages/ipykernel_launcher.py:30: RuntimeWarning: invalid value encountered in double_scalars\n"
     ]
    }
   ],
   "source": [
    "def user_based_collaborative_filtering_centered(K, user_id, business_id):\n",
    "    \n",
    "    # find the users that rated the business\n",
    "    ratings_vector =  centered_dense_array[:, business_id]\n",
    "    \n",
    "    # find non zero values\n",
    "    raters = np.nonzero(ratings_vector)\n",
    "    \n",
    "    # find the cosine similarities vector\n",
    "    raters = np.array(raters)\n",
    "    similarities_vector = user_similarities_centered[user_id, raters ]\n",
    "    \n",
    "    # reshape\n",
    "    similarities_vector = similarities_vector[0, :]\n",
    "    raters = raters[0, :]\n",
    "    \n",
    "    # create dict rater-similarity and sort it to get the topK similar users\n",
    "    rater_similarity = dict(zip(raters, similarities_vector))\n",
    "    \n",
    "    sorted_dict = {k: v for k, v in sorted(rater_similarity.items(), key=lambda item: item[1])}\n",
    "    \n",
    "    \n",
    "    similarities_vector = list(sorted_dict.values())[-K:]\n",
    "    similarities_vector = np.array(similarities_vector)\n",
    "    \n",
    "    raters = list(sorted_dict.keys())[-K:]\n",
    "    ratings = [centered_dense_array[r, business_id] for r in raters]\n",
    "    \n",
    "    # calculate prediction\n",
    "    prediction = row_means[user_id] - np.array(ratings).dot(similarities_vector) / sum(similarities_vector)\n",
    "    \n",
    "    # round result\n",
    "    if 0 <= prediction <= 5:\n",
    "        return prediction \n",
    "    elif prediction <0:\n",
    "        return 0\n",
    "    else:\n",
    "        return 5\n",
    "\n",
    "\n",
    "ucf_corr_coeff_k_values = [1,2,3,4,5,6,7,8,9,10,20,30,40,50]\n",
    "ucf_predictions_per_k_centered = {}\n",
    "for k in ucf_corr_coeff_k_values:\n",
    "    ucf_predictions = list()\n",
    "    for rating in extracted_ratings:\n",
    "        ucf_predictions.append(user_based_collaborative_filtering_centered(k, rating[0], rating[1]))\n",
    "    ucf_predictions_per_k_centered[k] = ucf_predictions"
   ]
  },
  {
   "cell_type": "markdown",
   "metadata": {},
   "source": [
    "# Step 6\n",
    "### Evaluation<br>\n",
    "\n",
    "- For the evaluation we will use the RMSE (Root Mean\n",
    "Square Error) metric from the [sklearn.metrics](https://scikit-learn.org/stable/modules/generated/sklearn.metrics.mean_squared_error.html) package.\n",
    "\n",
    "$$RMSE\\:=\\:\\sqrt{\\frac{\\sum \\:\\:_{i=1}^n\\left(r_i\\:-p_i\\right)^2}{n}}$$\n",
    "\n",
    "\n",
    "### Baselines Calculation\n",
    "\n",
    "- User Average (UA): μέση τιμή 𝑟(𝑢) των ratings του 𝑢\n",
    "- Business Average (BA): μέση τιμή 𝑟(𝑏) των ratings της επιχείρησης 𝑏."
   ]
  },
  {
   "cell_type": "code",
   "execution_count": 10,
   "metadata": {},
   "outputs": [
    {
     "name": "stdout",
     "output_type": "stream",
     "text": [
      "The RMSE metric for the User Average baseline is 1.0450343328391747\n",
      "The RMSE metric for the Business Average baseline is 0.9901129250294981\n"
     ]
    }
   ],
   "source": [
    "import math\n",
    "actual_ratings = list(extracted_ratings.values())\n",
    "\n",
    "def user_avg_baseline(user):\n",
    "    user_ratings_vector = dense_array[user, :]\n",
    "    return user_ratings_vector[np.nonzero(user_ratings_vector)].mean()\n",
    "    \n",
    "def business_avg_baseline(business):\n",
    "    business_ratings_vector = dense_array[:, business]\n",
    "    return business_ratings_vector[np.nonzero(business_ratings_vector)].mean()\n",
    "\n",
    "user_average = list()\n",
    "business_average = list()\n",
    "for rating in extracted_ratings:\n",
    "    user_average.append(user_avg_baseline(rating[0]))\n",
    "    business_average.append(business_avg_baseline(rating[1]))\n",
    "\n",
    "user_average_rmse = math.sqrt(mean_squared_error(actual_ratings, user_average))\n",
    "business_average_rmse = math.sqrt(mean_squared_error(actual_ratings, business_average))\n",
    "print(f\"The RMSE metric for the User Average baseline is {user_average_rmse}\")\n",
    "print(f\"The RMSE metric for the Business Average baseline is {business_average_rmse}\")"
   ]
  },
  {
   "cell_type": "markdown",
   "metadata": {},
   "source": [
    "# Charts and tables for RMSE values per algorithm"
   ]
  },
  {
   "cell_type": "code",
   "execution_count": 136,
   "metadata": {},
   "outputs": [
    {
     "data": {
      "text/html": [
       "<div>\n",
       "<style scoped>\n",
       "    .dataframe tbody tr th:only-of-type {\n",
       "        vertical-align: middle;\n",
       "    }\n",
       "\n",
       "    .dataframe tbody tr th {\n",
       "        vertical-align: top;\n",
       "    }\n",
       "\n",
       "    .dataframe thead th {\n",
       "        text-align: right;\n",
       "    }\n",
       "</style>\n",
       "<table border=\"1\" class=\"dataframe\">\n",
       "  <thead>\n",
       "    <tr style=\"text-align: right;\">\n",
       "      <th></th>\n",
       "      <th>UCF</th>\n",
       "      <th>UCF - PCC</th>\n",
       "      <th>ICF</th>\n",
       "      <th>SVD</th>\n",
       "    </tr>\n",
       "    <tr>\n",
       "      <th>k</th>\n",
       "      <th></th>\n",
       "      <th></th>\n",
       "      <th></th>\n",
       "      <th></th>\n",
       "    </tr>\n",
       "  </thead>\n",
       "  <tbody>\n",
       "    <tr>\n",
       "      <th>100</th>\n",
       "      <td>1.002374</td>\n",
       "      <td>NaN</td>\n",
       "      <td>NaN</td>\n",
       "      <td>NaN</td>\n",
       "    </tr>\n",
       "    <tr>\n",
       "      <th>10</th>\n",
       "      <td>NaN</td>\n",
       "      <td>1.601873</td>\n",
       "      <td>NaN</td>\n",
       "      <td>NaN</td>\n",
       "    </tr>\n",
       "    <tr>\n",
       "      <th>50</th>\n",
       "      <td>NaN</td>\n",
       "      <td>NaN</td>\n",
       "      <td>1.046363</td>\n",
       "      <td>NaN</td>\n",
       "    </tr>\n",
       "    <tr>\n",
       "      <th>1</th>\n",
       "      <td>NaN</td>\n",
       "      <td>NaN</td>\n",
       "      <td>NaN</td>\n",
       "      <td>2.82098</td>\n",
       "    </tr>\n",
       "  </tbody>\n",
       "</table>\n",
       "</div>"
      ],
      "text/plain": [
       "          UCF  UCF - PCC       ICF      SVD\n",
       "k                                          \n",
       "100  1.002374        NaN       NaN      NaN\n",
       "10        NaN   1.601873       NaN      NaN\n",
       "50        NaN        NaN  1.046363      NaN\n",
       "1         NaN        NaN       NaN  2.82098"
      ]
     },
     "execution_count": 136,
     "metadata": {},
     "output_type": "execute_result"
    },
    {
     "data": {
      "image/png": "[encoded data removed]",
      "text/plain": [
       "<Figure size 1080x720 with 4 Axes>"
      ]
     },
     "metadata": {
      "needs_background": "light"
     },
     "output_type": "display_data"
    }
   ],
   "source": [
    "import seaborn as sns\n",
    "\n",
    "def calculate_rmse_per_k(k_values, predictions):\n",
    "    rmse_values = list()\n",
    "    for k in k_values:\n",
    "        rmse_values.append(mean_squared_error(actual_ratings, predictions[k]))\n",
    "    return rmse_values\n",
    "\n",
    "\n",
    "rmse_ucf = calculate_rmse_per_k(ucf_k_values, ucf_predictions_per_k)\n",
    "data = pd.DataFrame({'k':ucf_k_values, 'UCF':rmse_ucf})\n",
    "table_data = data.nsmallest(1, 'UCF')\n",
    "\n",
    "\n",
    "rmse_ucf = calculate_rmse_per_k(ucf_corr_coeff_k_values, ucf_predictions_per_k_centered)\n",
    "data2 = pd.DataFrame({'k':ucf_corr_coeff_k_values, 'UCF - PCC':rmse_ucf})\n",
    "table_data2 = data2.nsmallest(1, 'UCF - PCC')\n",
    "\n",
    "\n",
    "rmse_icf = calculate_rmse_per_k(icf_k_values, icf_predictions_per_k)\n",
    "data3 = pd.DataFrame({'k':icf_k_values, 'ICF':rmse_icf})\n",
    "table_data3 = data3.nsmallest(1, 'ICF')\n",
    "\n",
    "\n",
    "rmse_svd = calculate_rmse_per_k(svd_k_values, svd_predictions_per_k)\n",
    "data4 = pd.DataFrame({'k':svd_k_values, 'SVD':rmse_svd})\n",
    "table_data4 = data4.nsmallest(1, 'SVD')\n",
    "\n",
    "\n",
    "frames = [table_data, table_data2, table_data3, table_data4]\n",
    "result = pd.concat(frames)\n",
    "result.set_index('k', inplace=True)\n",
    "\n",
    "\n",
    "f, axes = plt.subplots(2, 2, figsize=(15,10))\n",
    "sns.lineplot(x=\"k\", y=\"UCF\", data=data, ax=axes[0,0])\n",
    "sns.lineplot(x=\"k\", y=\"UCF - PCC\", data=data2, ax=axes[0,1])\n",
    "sns.lineplot(x=\"k\", y=\"ICF\", data=data3, ax=axes[1,0])\n",
    "sns.lineplot(x=\"k\", y=\"SVD\", data=data4, ax=axes[1,1])\n",
    "f.tight_layout(pad=2.0)\n",
    "f.suptitle('RMSE - k per algorithm', y=1, fontsize=17)\n",
    "result"
   ]
  }
 ],
 "metadata": {
  "kernelspec": {
   "display_name": "Python 3",
   "language": "python",
   "name": "python3"
  },
  "language_info": {
   "codemirror_mode": {
    "name": "ipython",
    "version": 3
   },
   "file_extension": ".py",
   "mimetype": "text/x-python",
   "name": "python",
   "nbconvert_exporter": "python",
   "pygments_lexer": "ipython3",
   "version": "3.9.2"
  }
 },
 "nbformat": 4,
 "nbformat_minor": 2
}